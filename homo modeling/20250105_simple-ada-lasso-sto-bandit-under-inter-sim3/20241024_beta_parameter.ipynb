{
 "cells": [
  {
   "cell_type": "code",
   "execution_count": 19,
   "id": "ebe68fe3-e355-4032-897f-60d4548fd6ee",
   "metadata": {},
   "outputs": [],
   "source": [
    "import numpy as np\n",
    "import math\n",
    "\n",
    "def generate_beta(length, mean=0, variance=4):\n",
    "    # Calculate the length of beta\n",
    "    \n",
    "    # Generate a random array with the specified mean and variance\n",
    "    std_dev = np.sqrt(variance)\n",
    "    beta = mean + std_dev * np.random.randn(length)\n",
    "    \n",
    "    return beta\n",
    "\n",
    "# Example usage to generate and save beta\n",
    "length = 10  # Example value for K\n",
    "mean = 5  # Custom mean\n",
    "variance = 4  # Custom variance\n",
    "\n",
    "beta = generate_beta(length, mean, variance)"
   ]
  },
  {
   "cell_type": "code",
   "execution_count": 27,
   "id": "30c90cc3-8834-4ce5-8719-359df3678b33",
   "metadata": {},
   "outputs": [
    {
     "name": "stdout",
     "output_type": "stream",
     "text": [
      "Saved beta: [3.0143364  4.21106128 4.49056789 6.84433191 4.38055757 4.59035439\n",
      " 5.62650526 4.348927   3.26627828 2.23006741]\n"
     ]
    }
   ],
   "source": [
    "# Save beta to a file named 'beta.npy'\n",
    "np.save('beta.npy', beta)\n",
    "# Print the loaded beta to verify\n",
    "print(\"Saved beta:\", beta)"
   ]
  },
  {
   "cell_type": "code",
   "execution_count": 9,
   "id": "3ace98ea-5b61-4e24-9520-f85a9737bc55",
   "metadata": {},
   "outputs": [
    {
     "name": "stdout",
     "output_type": "stream",
     "text": [
      "Error array: [ 0.91358607 -0.06696339  0.98891683  0.12809651  0.0120799  -0.79865422\n",
      "  1.21058553 -0.35242202  0.97882577 -0.63068872  0.25996099  0.09687578\n",
      "  1.64437984  1.79726888 -0.47252728  1.03154221  0.76680298  0.37989636\n",
      "  0.07515694 -0.83035341 -0.1378444  -0.10920672  1.4022414  -1.95177759\n",
      "  1.72870603  0.05530635  0.6107789  -0.57603567 -0.13225536  0.44797616\n",
      " -0.78994134 -0.4121712   0.75871972  0.42451306 -1.38522121 -0.79714916\n",
      " -1.94353011  0.09597435  0.35306524 -0.35735721  0.3697432  -0.81343755\n",
      " -0.40312181  0.39052551  0.88897194  0.29552534 -0.41086484  0.79363098\n",
      " -1.47003287 -0.05043503  0.42906748  1.0906372  -0.20647859 -0.40193719\n",
      "  0.22385412  0.90044728 -1.84626742 -1.28764289  1.05576639  0.81933262\n",
      "  0.04618139  0.83833621 -0.82067551  0.87263576  2.30828244  1.54022804\n",
      " -0.42306382 -0.81415587  0.24157384  1.30224943 -0.58338356 -1.08532179\n",
      "  0.00475682 -1.38112371  1.10949293 -0.08924947  1.00328209 -0.07210002\n",
      " -1.64590849  0.53458219 -0.30810386 -1.24456865  1.21683749 -1.15700563\n",
      " -0.35132716 -0.18242066 -0.44189524  0.76812829 -0.14436982 -0.43279277\n",
      " -0.37263333 -1.07604364  0.51960376  1.70100508  0.53134169  0.7393323\n",
      " -0.47105189  0.05755345  0.33884616 -0.90754962]\n"
     ]
    }
   ],
   "source": [
    "import pickle\n",
    "import numpy as np\n",
    "\n",
    "# Load relation_matrix_dic from a pickle file\n",
    "with open('relation_matrix_dic.pkl', 'rb') as f:\n",
    "    relation_matrix_dic = pickle.load(f)\n",
    "\n",
    "# Get the length of relation_matrix_dic (number of keys)\n",
    "length = len(relation_matrix_dic)\n",
    "\n",
    "# Generate the error array from a normal distribution with the specified length\n",
    "mean = 0  # Define the mean\n",
    "variance = 1  # Define the variance\n",
    "std_dev = np.sqrt(variance)\n",
    "\n",
    "error = mean + std_dev * np.random.randn(length)\n",
    "\n",
    "# Print the generated error array\n",
    "print(\"Error array:\", error)\n"
   ]
  },
  {
   "cell_type": "code",
   "execution_count": 11,
   "id": "70a75f2c-ced0-4849-a697-40a2841ee6ae",
   "metadata": {},
   "outputs": [],
   "source": [
    "# Save the error array to a file named 'error.npy'\n",
    "np.save('error.npy', error)"
   ]
  },
  {
   "cell_type": "code",
   "execution_count": null,
   "id": "2124e998-4a01-4fa2-83ef-81f1871a174b",
   "metadata": {},
   "outputs": [],
   "source": []
  }
 ],
 "metadata": {
  "kernelspec": {
   "display_name": "Python [conda env:base] *",
   "language": "python",
   "name": "conda-base-py"
  },
  "language_info": {
   "codemirror_mode": {
    "name": "ipython",
    "version": 3
   },
   "file_extension": ".py",
   "mimetype": "text/x-python",
   "name": "python",
   "nbconvert_exporter": "python",
   "pygments_lexer": "ipython3",
   "version": "3.12.7"
  }
 },
 "nbformat": 4,
 "nbformat_minor": 5
}
