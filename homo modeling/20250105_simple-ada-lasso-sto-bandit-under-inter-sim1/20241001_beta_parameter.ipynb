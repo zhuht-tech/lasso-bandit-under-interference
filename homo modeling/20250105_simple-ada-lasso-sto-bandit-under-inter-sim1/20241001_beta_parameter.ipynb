{
 "cells": [
  {
   "cell_type": "code",
   "execution_count": 5,
   "id": "ebe68fe3-e355-4032-897f-60d4548fd6ee",
   "metadata": {},
   "outputs": [],
   "source": [
    "import numpy as np\n",
    "import math\n",
    "\n",
    "def generate_beta(K, mean=0, variance=4):\n",
    "    # Calculate the length of beta\n",
    "    length = 1 + 2 * K + math.comb(K, 2)\n",
    "    \n",
    "    # Generate a random array with the specified mean and variance\n",
    "    std_dev = np.sqrt(variance)\n",
    "    beta = mean + std_dev * np.random.randn(length)\n",
    "    \n",
    "    return beta\n",
    "\n",
    "# Example usage to generate and save beta\n",
    "K = 3  # Example value for K\n",
    "mean = 2  # Custom mean\n",
    "variance = 4  # Custom variance\n",
    "\n",
    "beta = generate_beta(K, mean, variance)"
   ]
  },
  {
   "cell_type": "code",
   "execution_count": 6,
   "id": "30c90cc3-8834-4ce5-8719-359df3678b33",
   "metadata": {},
   "outputs": [
    {
     "name": "stdout",
     "output_type": "stream",
     "text": [
      "Saved beta: [ 1.57781349  1.3726433   3.36351309 -1.53836502  3.7111756  -1.98627158\n",
      "  1.35771073  4.94808916  1.04076235  1.93594628]\n"
     ]
    }
   ],
   "source": [
    "# Save beta to a file named 'beta.npy'\n",
    "np.save('beta.npy', beta)\n",
    "# Print the loaded beta to verify\n",
    "print(\"Saved beta:\", beta)"
   ]
  },
  {
   "cell_type": "code",
   "execution_count": 3,
   "id": "3ace98ea-5b61-4e24-9520-f85a9737bc55",
   "metadata": {},
   "outputs": [
    {
     "name": "stdout",
     "output_type": "stream",
     "text": [
      "Error array: [ 1.21076008e+00 -5.06150769e-01 -8.01530138e-01  1.11271417e+00\n",
      "  1.06156957e-01  3.13367766e+00 -2.67103149e-01  8.08426858e-01\n",
      " -1.38716821e+00 -7.72865428e-01  1.64359466e+00  1.00516501e+00\n",
      "  1.61398120e+00 -6.16718259e-01  2.25320947e+00 -2.88038560e+00\n",
      "  2.77851950e+00 -8.55884177e-01  7.46486642e-01  3.41719549e-01\n",
      " -2.24471305e-01 -9.60647542e-01  4.24662495e-01  1.59738714e-01\n",
      "  6.26791190e-01  1.77468890e+00 -1.90464317e+00 -9.13626526e-01\n",
      " -2.00083079e+00  2.36427479e+00  2.32139936e+00 -2.60004947e+00\n",
      "  1.48616165e+00 -1.98325142e+00 -1.09235648e+00 -6.34975664e-01\n",
      " -1.26138824e-01  7.07320704e-01  8.49116525e-01  6.97010947e-01\n",
      " -5.05507127e-01  2.44364776e+00  8.17374392e-01 -6.96299628e-02\n",
      " -2.88609929e+00 -2.05638020e+00  6.07749999e-01 -9.30390979e-02\n",
      "  1.51526128e+00 -5.16439343e-01  3.42981734e+00 -1.72436261e+00\n",
      "  2.08850654e-01  1.31875051e+00 -2.14740979e+00 -9.00669274e-01\n",
      "  4.12255570e-01 -2.82743166e+00  1.40541021e+00 -6.84314836e+00\n",
      "  1.75197173e+00 -2.20796843e-01  2.37784429e+00  1.79435287e+00\n",
      " -3.22144622e+00  6.83876642e-01  2.68623722e+00 -9.79999510e-01\n",
      "  3.82468569e+00 -1.76855551e+00 -1.03451303e+00 -3.94558223e+00\n",
      "  3.43266414e-01 -8.12404797e-01  1.93087506e+00 -4.37268943e-03\n",
      " -1.30870164e+00  1.15707380e+00  1.26304639e+00  7.65984386e-01\n",
      "  7.08785215e-01 -1.42990851e+00  4.34434274e-01  2.58443488e+00\n",
      "  4.09575003e-01  1.41056987e+00 -1.29568950e-01 -3.55221347e-01\n",
      " -2.43672478e+00 -3.98897569e-01 -1.96443508e+00 -1.96290458e+00\n",
      "  6.33888138e-02  2.67634435e+00  8.69336378e-01 -1.90368809e+00\n",
      "  1.87356433e-01  3.59599001e+00  1.28636559e+00  2.82459388e-01]\n"
     ]
    }
   ],
   "source": [
    "import pickle\n",
    "import numpy as np\n",
    "\n",
    "# Load relation_matrix_dic from a pickle file\n",
    "with open('relation_matrix_dic.pkl', 'rb') as f:\n",
    "    relation_matrix_dic = pickle.load(f)\n",
    "\n",
    "# Get the length of relation_matrix_dic (number of keys)\n",
    "length = len(relation_matrix_dic)\n",
    "\n",
    "# Generate the error array from a normal distribution with the specified length\n",
    "mean = 0  # Define the mean\n",
    "variance = 4  # Define the variance\n",
    "std_dev = np.sqrt(variance)\n",
    "\n",
    "error = mean + std_dev * np.random.randn(length)\n",
    "\n",
    "# Print the generated error array\n",
    "print(\"Error array:\", error)\n"
   ]
  },
  {
   "cell_type": "code",
   "execution_count": 4,
   "id": "70a75f2c-ced0-4849-a697-40a2841ee6ae",
   "metadata": {},
   "outputs": [],
   "source": [
    "# Save the error array to a file named 'error.npy'\n",
    "np.save('error.npy', error)"
   ]
  },
  {
   "cell_type": "code",
   "execution_count": null,
   "id": "d4d1dabb-c7ed-434a-8312-a7402e1f0499",
   "metadata": {},
   "outputs": [],
   "source": []
  }
 ],
 "metadata": {
  "kernelspec": {
   "display_name": "Python 3 (ipykernel)",
   "language": "python",
   "name": "python3"
  },
  "language_info": {
   "codemirror_mode": {
    "name": "ipython",
    "version": 3
   },
   "file_extension": ".py",
   "mimetype": "text/x-python",
   "name": "python",
   "nbconvert_exporter": "python",
   "pygments_lexer": "ipython3",
   "version": "3.11.0"
  }
 },
 "nbformat": 4,
 "nbformat_minor": 5
}
