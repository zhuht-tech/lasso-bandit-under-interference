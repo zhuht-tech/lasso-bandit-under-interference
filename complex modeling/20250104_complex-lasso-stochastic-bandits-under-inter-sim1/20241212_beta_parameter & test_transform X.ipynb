{
 "cells": [
  {
   "cell_type": "code",
   "execution_count": 3,
   "id": "ebe68fe3-e355-4032-897f-60d4548fd6ee",
   "metadata": {},
   "outputs": [],
   "source": [
    "import numpy as np\n",
    "import pandas as pd\n",
    "import GPy\n",
    "from scipy.special import expit\n",
    "import matplotlib.pyplot as plt\n",
    "from sklearn.linear_model import LinearRegression\n",
    "from scipy.spatial import distance\n",
    "import statsmodels.api as sm\n",
    "import warnings\n",
    "import numpy as np\n",
    "from scipy.optimize import differential_evolution\n",
    "from scipy.stats import rankdata\n",
    "from sklearn.cross_decomposition import CCA\n",
    "import math\n",
    "import copy\n",
    "from math import log\n",
    "from collections import Counter\n",
    "import pickle\n",
    "from sklearn.linear_model import Lasso\n",
    "warnings.filterwarnings(\"ignore\")"
   ]
  },
  {
   "cell_type": "code",
   "execution_count": 9,
   "id": "81b8a2d1-1bcb-4181-94f9-98aa27c2444b",
   "metadata": {},
   "outputs": [],
   "source": [
    "with open('relation_matrix_dic.pkl', 'rb') as f:\n",
    "    relation_matrix_dic = pickle.load(f)\n",
    "\n",
    "error_array = np.load('error.npy')\n",
    "\n",
    "# define a new adjacency_matrix_dic: adjacency_matrix_dic[i] = relation_matrix_dic[i].iloc[0:20, 0:20]\n",
    "adjacency_matrix_dic = {i: relation_matrix_dic[i].iloc[0:5, 0:5] for i in relation_matrix_dic}\n",
    "\n",
    "adjacency_matrix = adjacency_matrix_dic[31]"
   ]
  },
  {
   "cell_type": "code",
   "execution_count": 11,
   "id": "57a58a19-7560-4785-898b-847fcb84c751",
   "metadata": {},
   "outputs": [],
   "source": [
    "adjacency_matrix = np.array(adjacency_matrix)"
   ]
  },
  {
   "cell_type": "code",
   "execution_count": 12,
   "id": "c16eaa16-f7b0-43bb-8614-a9cc55e6107b",
   "metadata": {},
   "outputs": [
    {
     "data": {
      "text/plain": [
       "array([[0., 1., 1., 1., 1.],\n",
       "       [1., 0., 0., 1., 1.],\n",
       "       [1., 0., 0., 0., 0.],\n",
       "       [1., 1., 0., 0., 1.],\n",
       "       [1., 1., 0., 1., 0.]])"
      ]
     },
     "execution_count": 12,
     "metadata": {},
     "output_type": "execute_result"
    }
   ],
   "source": [
    "adjacency_matrix"
   ]
  },
  {
   "cell_type": "code",
   "execution_count": 13,
   "id": "b2eaa5ca-1169-466d-b287-77dfa8647d12",
   "metadata": {},
   "outputs": [],
   "source": [
    "# Get the upper triangular portion (excluding diagonal)\n",
    "upper_triangular = np.triu(adjacency_matrix, k=1)\n",
    "\n",
    "# Count the number of 1s\n",
    "num_ones = np.sum(upper_triangular)"
   ]
  },
  {
   "cell_type": "code",
   "execution_count": 17,
   "id": "080b9983-7a48-4cd6-88dd-adcbdcb05000",
   "metadata": {},
   "outputs": [],
   "source": [
    "K = 2\n",
    "length_beta = 1 + K * len(adjacency_matrix) + K**2 * num_ones"
   ]
  },
  {
   "cell_type": "code",
   "execution_count": 26,
   "id": "0ced10b2-ca12-4e61-a150-d06c8ad2c1eb",
   "metadata": {},
   "outputs": [
    {
     "data": {
      "text/plain": [
       "39"
      ]
     },
     "execution_count": 26,
     "metadata": {},
     "output_type": "execute_result"
    }
   ],
   "source": [
    "length_beta = int(length_beta)\n",
    "length_beta "
   ]
  },
  {
   "cell_type": "code",
   "execution_count": 34,
   "id": "b6828c1d-b516-439d-b3bf-34415e9eabc3",
   "metadata": {},
   "outputs": [
    {
     "name": "stdout",
     "output_type": "stream",
     "text": [
      "[ 0.          7.28061152  0.          0.          0.          0.\n",
      "  0.          0.          2.86269357  0.          0.          0.\n",
      "  0.          0.          0.          0.          0.          0.\n",
      "  0.          0.          0.          0.          0.          0.\n",
      "  0.          0.          4.50931371  0.          0.         -1.22792887\n",
      "  0.          0.          0.          0.          7.04500862  0.\n",
      "  0.          0.          0.        ]\n"
     ]
    }
   ],
   "source": [
    "beta_star = np.zeros(length_beta)\n",
    "\n",
    "# Randomly select 10 indices to have non-zero values\n",
    "non_zero_indices = np.random.choice(length_beta, size=5, replace=False)\n",
    "\n",
    "# Assign values from normal distributions to the selected indices\n",
    "for idx in non_zero_indices:\n",
    "    mean = np.random.randint(-5, 15)  # Random integer mean in the range [-10, 10]\n",
    "    beta_star[idx] = np.random.normal(loc=mean, scale=2)  # Normal distribution with the selected mean and std dev = 1\n",
    "\n",
    "print(beta_star)"
   ]
  },
  {
   "cell_type": "code",
   "execution_count": 38,
   "id": "5c690009-5ab7-4070-9d67-0e86c07ef76e",
   "metadata": {},
   "outputs": [],
   "source": [
    "np.save('adjacency_matrix.npy', adjacency_matrix)"
   ]
  },
  {
   "cell_type": "code",
   "execution_count": 35,
   "id": "88dc8c14-e6b9-4260-ba42-5b53ce08c252",
   "metadata": {},
   "outputs": [
    {
     "name": "stdout",
     "output_type": "stream",
     "text": [
      "Array saved as 'beta_star.npy'.\n"
     ]
    }
   ],
   "source": [
    "# Save the array as 'beta_star.npy'\n",
    "np.save('beta_star.npy', beta_star)\n",
    "\n",
    "print(\"Array saved as 'beta_star.npy'.\")"
   ]
  },
  {
   "cell_type": "markdown",
   "id": "ac3df121-7082-4fb4-99bf-156b8c4547b5",
   "metadata": {},
   "source": [
    "# test_transform X"
   ]
  },
  {
   "cell_type": "code",
   "execution_count": 41,
   "id": "d2fcf7b2-ee05-45a7-bdce-d43f876a385f",
   "metadata": {},
   "outputs": [
    {
     "name": "stdout",
     "output_type": "stream",
     "text": [
      "A: [1 2 2 2 2]\n",
      "B: [2 2 2 2 4 4 4]\n",
      "X: [1. 1. 0. 0. 1. 0. 1. 0. 1. 0. 1. 0. 1. 0. 0. 0. 1. 0. 0. 0. 1. 0. 0. 0.\n",
      " 1. 0. 0. 0. 0. 0. 1. 0. 0. 0. 1. 0. 0. 0. 1.]\n"
     ]
    }
   ],
   "source": [
    "# Generate A: Random integers from 1 to K\n",
    "A = np.random.randint(1, K + 1, size=len(adjacency_matrix))\n",
    "\n",
    "# Extract upper triangular part (excluding diagonal)\n",
    "upper_triangular = np.triu(adjacency_matrix, k=1)\n",
    "\n",
    "# Generate B based on the rules\n",
    "B = []\n",
    "for i in range(len(adjacency_matrix)):\n",
    "    for j in range(len(adjacency_matrix)):\n",
    "        if upper_triangular[i, j] == 1:\n",
    "            B.append(K * (A[i] - 1) + A[j])\n",
    "\n",
    "B = np.array(B)\n",
    "\n",
    "# Create X\n",
    "# Step 1: Start with 1\n",
    "X = [1]\n",
    "\n",
    "# Step 2: Add one-hot encoding of A (length K for each element in A)\n",
    "for a in A:\n",
    "    one_hot_a = np.eye(K)[a - 1]  # One-hot encoding\n",
    "    X.extend(one_hot_a)\n",
    "\n",
    "# Step 3: Add one-hot encoding of B (length K^2 for each element in B)\n",
    "for b in B:\n",
    "    one_hot_b = np.eye(K**2)[b - 1]  # One-hot encoding\n",
    "    X.extend(one_hot_b)\n",
    "\n",
    "X = np.array(X)\n",
    "\n",
    "# Output\n",
    "print(\"A:\", A)\n",
    "print(\"B:\", B)\n",
    "print(\"X:\", X)\n"
   ]
  },
  {
   "cell_type": "code",
   "execution_count": 42,
   "id": "193aca20-0f48-4ff4-be58-975414ba4f26",
   "metadata": {},
   "outputs": [
    {
     "data": {
      "text/plain": [
       "39"
      ]
     },
     "execution_count": 42,
     "metadata": {},
     "output_type": "execute_result"
    }
   ],
   "source": [
    "len(X)"
   ]
  },
  {
   "cell_type": "code",
   "execution_count": 43,
   "id": "97c1d5b0-1054-482b-b0a0-4445cf4da9e9",
   "metadata": {},
   "outputs": [
    {
     "data": {
      "text/plain": [
       "17.18831371630942"
      ]
     },
     "execution_count": 43,
     "metadata": {},
     "output_type": "execute_result"
    }
   ],
   "source": [
    "np.dot(X, beta_star)"
   ]
  },
  {
   "cell_type": "code",
   "execution_count": null,
   "id": "f5025e6c-e1b5-4e21-8d85-f1597bce9771",
   "metadata": {},
   "outputs": [],
   "source": []
  }
 ],
 "metadata": {
  "kernelspec": {
   "display_name": "Python 3 (ipykernel)",
   "language": "python",
   "name": "python3"
  },
  "language_info": {
   "codemirror_mode": {
    "name": "ipython",
    "version": 3
   },
   "file_extension": ".py",
   "mimetype": "text/x-python",
   "name": "python",
   "nbconvert_exporter": "python",
   "pygments_lexer": "ipython3",
   "version": "3.11.0"
  }
 },
 "nbformat": 4,
 "nbformat_minor": 5
}
